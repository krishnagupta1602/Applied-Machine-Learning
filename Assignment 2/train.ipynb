{
 "cells": [
  {
   "cell_type": "code",
   "execution_count": 1,
   "metadata": {},
   "outputs": [],
   "source": [
    "#Importing the required functions\n",
    "import pandas as pd\n",
    "import numpy as np\n",
    "import regex as re\n",
    "import nltk\n",
    "import string\n",
    "from sklearn.feature_extraction.text import CountVectorizer, TfidfTransformer\n",
    "from sklearn.naive_bayes import MultinomialNB\n",
    "from sklearn.linear_model import LogisticRegression\n",
    "from sklearn.metrics import classification_report, f1_score, accuracy_score, confusion_matrix\n",
    "from sklearn.metrics import average_precision_score, precision_recall_curve\n",
    "from sklearn.metrics import auc\n",
    "from sklearn.svm import SVC\n",
    "import warnings\n",
    "warnings.filterwarnings(\"ignore\")\n",
    "import random\n",
    "# !pip3 install mlflow\n",
    "import mlflow\n",
    "import logging\n",
    "from urllib.parse import urlparse\n",
    "logging.basicConfig(level=logging.WARN)\n",
    "logger = logging.getLogger(__name__)\n"
   ]
  },
  {
   "attachments": {},
   "cell_type": "markdown",
   "metadata": {},
   "source": [
    "**Importing train, test and validation data**"
   ]
  },
  {
   "cell_type": "code",
   "execution_count": 3,
   "metadata": {},
   "outputs": [],
   "source": [
    "path_train = './train.csv'\n",
    "path_val = './validation.csv'\n",
    "path_test = './test.csv'\n",
    "\n",
    "train_df = pd.read_csv(path_train)\n",
    "val_df = pd.read_csv(path_val)\n",
    "test_df = pd.read_csv(path_test)\n"
   ]
  },
  {
   "cell_type": "code",
   "execution_count": 4,
   "metadata": {},
   "outputs": [],
   "source": [
    "train_df['y_train'] = train_df['y_train'].map({'ham': 1, 'spam': 0})\n",
    "val_df['y_val'] = val_df['y_val'].map({'ham': 1, 'spam': 0})\n",
    "test_df['y_test'] = test_df['y_test'].map({'ham': 1, 'spam': 0})"
   ]
  },
  {
   "attachments": {},
   "cell_type": "markdown",
   "metadata": {},
   "source": [
    "**Bag of words**"
   ]
  },
  {
   "cell_type": "code",
   "execution_count": 5,
   "metadata": {},
   "outputs": [
    {
     "name": "stdout",
     "output_type": "stream",
     "text": [
      "7330\n"
     ]
    }
   ],
   "source": [
    "vectorizer = CountVectorizer()\n",
    "vectorizer.fit(train_df.X_train)\n",
    "\n",
    "bow_transformer = vectorizer.vocabulary_\n",
    "print(len(bow_transformer))"
   ]
  },
  {
   "cell_type": "code",
   "execution_count": 6,
   "metadata": {},
   "outputs": [
    {
     "name": "stdout",
     "output_type": "stream",
     "text": [
      "(4512, 7330) (502, 7330) (558, 7330)\n"
     ]
    }
   ],
   "source": [
    "X_train = vectorizer.transform(train_df.X_train)\n",
    "X_val = vectorizer.transform(val_df.X_val)\n",
    "X_test = vectorizer.transform(test_df.X_test)\n",
    "\n",
    "print(X_train.shape, X_val.shape, X_test.shape)"
   ]
  },
  {
   "attachments": {},
   "cell_type": "markdown",
   "metadata": {},
   "source": [
    "**Tf-idf transformer**"
   ]
  },
  {
   "cell_type": "code",
   "execution_count": 8,
   "metadata": {},
   "outputs": [],
   "source": [
    "tfidf_transformer = TfidfTransformer().fit(X_train)"
   ]
  },
  {
   "cell_type": "code",
   "execution_count": 9,
   "metadata": {},
   "outputs": [
    {
     "name": "stdout",
     "output_type": "stream",
     "text": [
      "(4512, 7330) (502, 7330) (558, 7330)\n"
     ]
    }
   ],
   "source": [
    "tfidf_X_train = tfidf_transformer.transform(X_train)\n",
    "tfidf_X_val = tfidf_transformer.transform(X_val)\n",
    "tfidf_X_test = tfidf_transformer.transform(X_test)\n",
    "\n",
    "print(tfidf_X_train.shape, tfidf_X_val.shape, tfidf_X_test.shape)"
   ]
  },
  {
   "attachments": {},
   "cell_type": "markdown",
   "metadata": {},
   "source": [
    "**Multinomial Naive Bayes Model(tf-idf tokenizer)**"
   ]
  },
  {
   "cell_type": "code",
   "execution_count": 10,
   "metadata": {},
   "outputs": [],
   "source": [
    "def MNB_model(alp):\n",
    "    spam_detection_model = MultinomialNB(alpha = alp).fit(tfidf_X_train, train_df.y_train)\n",
    "    test_predictions = spam_detection_model.predict(tfidf_X_test)\n",
    "\n",
    "    acc_sc = accuracy_score(test_df.y_test, test_predictions)\n",
    "    \n",
    "    #Computing Precision and Recall\n",
    "    precision, recall, thresholds = precision_recall_curve(test_df.y_test, test_predictions)\n",
    "    # Use AUC function to calculate the area under the curve of precision recall curve\n",
    "    aupcr = auc(recall, precision)\n",
    "    \n",
    "    conf_m = confusion_matrix(test_df.y_test, test_predictions)\n",
    "\n",
    "    #print(\"The AUPCR score is:\",aupcr)\n",
    "    return [spam_detection_model, acc_sc, aupcr, conf_m]"
   ]
  },
  {
   "attachments": {},
   "cell_type": "markdown",
   "metadata": {},
   "source": [
    "**Logistic Regression Model (tf-idf tokenizer)**"
   ]
  },
  {
   "cell_type": "code",
   "execution_count": 11,
   "metadata": {},
   "outputs": [],
   "source": [
    "def Log_model(C):\n",
    "    spam_detection_model_2 = LogisticRegression(C = i)\n",
    "    spam_detection_model_2.fit(tfidf_X_train, train_df.y_train)\n",
    "    test_predictions = spam_detection_model_2.predict(tfidf_X_test)\n",
    "    acc_sc = accuracy_score(test_df.y_test, test_predictions)\n",
    "    \n",
    "    #Computing Precision and Recall\n",
    "    precision, recall, _ = precision_recall_curve(test_df.y_test, test_predictions)\n",
    "    # Use AUC function to calculate the area under the curve of precision recall curve\n",
    "    aupcr = auc(recall, precision)\n",
    "    #print(\"The AUPCR score is:\",aupcr)\n",
    "\n",
    "    conf_m = confusion_matrix(test_df.y_test, test_predictions)\n",
    "\n",
    "    #print(\"The AUPCR score is:\",aupcr)\n",
    "    return [spam_detection_model_2, acc_sc, aupcr, conf_m]"
   ]
  },
  {
   "attachments": {},
   "cell_type": "markdown",
   "metadata": {},
   "source": [
    "**Support Vector Classifier**"
   ]
  },
  {
   "cell_type": "code",
   "execution_count": 12,
   "metadata": {},
   "outputs": [],
   "source": [
    "def SVC_Model(C):    \n",
    "    spam_detection_model_3 = SVC(C = i)\n",
    "    spam_detection_model_3.fit(tfidf_X_train, train_df.y_train)\n",
    "    test_predictions = spam_detection_model_3.predict(tfidf_X_test)\n",
    "    acc_sc = accuracy_score(test_df.y_test, test_predictions)\n",
    "    \n",
    "    #Computing Precision and Recall\n",
    "    precision, recall, _ = precision_recall_curve(test_df.y_test, test_predictions)\n",
    "    # Use AUC function to calculate the area under the curve of precision recall curve\n",
    "    aupcr = auc(recall, precision)\n",
    "    #print(\"The AUPCR score is:\",aupcr)\n",
    "\n",
    "    conf_m = confusion_matrix(test_df.y_test, test_predictions)\n",
    "\n",
    "    #print(\"The AUPCR score is:\",aupcr)\n",
    "    return [spam_detection_model_3, acc_sc, aupcr, conf_m]"
   ]
  },
  {
   "attachments": {},
   "cell_type": "markdown",
   "metadata": {},
   "source": [
    "Logging and tracking multiple runs for the spam detection model built using the Multinomial Naive Bayes Model"
   ]
  },
  {
   "cell_type": "code",
   "execution_count": 13,
   "metadata": {},
   "outputs": [
    {
     "name": "stderr",
     "output_type": "stream",
     "text": [
      "Successfully registered model 'Multinomial Naive Bayes'.\n",
      "2023/03/21 16:48:21 INFO mlflow.tracking._model_registry.client: Waiting up to 300 seconds for model version to finish creation.                     Model name: Multinomial Naive Bayes, version 1\n",
      "Created version '1' of model 'Multinomial Naive Bayes'.\n",
      "Registered model 'Multinomial Naive Bayes' already exists. Creating a new version of this model...\n",
      "2023/03/21 16:48:34 INFO mlflow.tracking._model_registry.client: Waiting up to 300 seconds for model version to finish creation.                     Model name: Multinomial Naive Bayes, version 2\n",
      "Created version '2' of model 'Multinomial Naive Bayes'.\n",
      "Registered model 'Multinomial Naive Bayes' already exists. Creating a new version of this model...\n",
      "2023/03/21 16:48:46 INFO mlflow.tracking._model_registry.client: Waiting up to 300 seconds for model version to finish creation.                     Model name: Multinomial Naive Bayes, version 3\n",
      "Created version '3' of model 'Multinomial Naive Bayes'.\n",
      "Registered model 'Multinomial Naive Bayes' already exists. Creating a new version of this model...\n",
      "2023/03/21 16:48:57 INFO mlflow.tracking._model_registry.client: Waiting up to 300 seconds for model version to finish creation.                     Model name: Multinomial Naive Bayes, version 4\n",
      "Created version '4' of model 'Multinomial Naive Bayes'.\n",
      "Registered model 'Multinomial Naive Bayes' already exists. Creating a new version of this model...\n",
      "2023/03/21 16:49:08 INFO mlflow.tracking._model_registry.client: Waiting up to 300 seconds for model version to finish creation.                     Model name: Multinomial Naive Bayes, version 5\n",
      "Created version '5' of model 'Multinomial Naive Bayes'.\n",
      "Registered model 'Multinomial Naive Bayes' already exists. Creating a new version of this model...\n",
      "2023/03/21 16:49:20 INFO mlflow.tracking._model_registry.client: Waiting up to 300 seconds for model version to finish creation.                     Model name: Multinomial Naive Bayes, version 6\n",
      "Created version '6' of model 'Multinomial Naive Bayes'.\n",
      "Registered model 'Multinomial Naive Bayes' already exists. Creating a new version of this model...\n",
      "2023/03/21 16:49:33 INFO mlflow.tracking._model_registry.client: Waiting up to 300 seconds for model version to finish creation.                     Model name: Multinomial Naive Bayes, version 7\n",
      "Created version '7' of model 'Multinomial Naive Bayes'.\n",
      "Registered model 'Multinomial Naive Bayes' already exists. Creating a new version of this model...\n",
      "2023/03/21 16:49:49 INFO mlflow.tracking._model_registry.client: Waiting up to 300 seconds for model version to finish creation.                     Model name: Multinomial Naive Bayes, version 8\n",
      "Created version '8' of model 'Multinomial Naive Bayes'.\n",
      "Registered model 'Multinomial Naive Bayes' already exists. Creating a new version of this model...\n",
      "2023/03/21 16:50:00 INFO mlflow.tracking._model_registry.client: Waiting up to 300 seconds for model version to finish creation.                     Model name: Multinomial Naive Bayes, version 9\n",
      "Created version '9' of model 'Multinomial Naive Bayes'.\n"
     ]
    }
   ],
   "source": [
    "mlflow.sklearn.autolog()\n",
    "\n",
    "md_name = \"Multinomial Naive Bayes\" \n",
    "\n",
    "for i in np.arange(0.05, 2.25, 0.25):\n",
    "    with mlflow.start_run(run_name = f\"Model : {md_name}, Alpha : {i}\"):\n",
    "        \n",
    "        #Log parameters\n",
    "        mlflow.log_param(\"Alpha\",i)\n",
    "\n",
    "        #Running the model\n",
    "        model_metrics = MNB_model(i)\n",
    "\n",
    "        #Logging metrics\n",
    "        mlflow.log_metric(\"Accuracy\", model_metrics[1])\n",
    "        mlflow.log_metric(\"AUPCR\", model_metrics[2])\n",
    "\n",
    "        #Logging JSON of confusion matrix\n",
    "        mlflow.log_dict(np.array(model_metrics[3]).tolist(), \"confusion_matrix.json\")\n",
    "        mlflow.sklearn.log_model(model_metrics[0], \"model\")\n",
    "\n",
    "        tracking_url_type_store = urlparse(mlflow.get_tracking_uri()).scheme\n",
    "        mlflow.sklearn.log_model(\n",
    "            sk_model = model_metrics[0],\n",
    "            artifact_path=\"sklearn-model\",\n",
    "            registered_model_name=\"Multinomial Naive Bayes\"\n",
    "        )\n",
    "        if tracking_url_type_store != \"file\":\n",
    "            mlflow.sklearn.log_model(model_metrics[0], \"model\", registered_model_name=\"Multinomial Naive Bayes\")\n",
    "        else:\n",
    "          mlflow.sklearn.log_model(model_metrics[0], \"model\")\n",
    "\n",
    "        \n"
   ]
  },
  {
   "attachments": {},
   "cell_type": "markdown",
   "metadata": {},
   "source": [
    "Logging and tracking multiple runs for the spam detection model built using the Logistic Regression Model"
   ]
  },
  {
   "cell_type": "code",
   "execution_count": 14,
   "metadata": {},
   "outputs": [
    {
     "name": "stderr",
     "output_type": "stream",
     "text": [
      "Successfully registered model 'Logistic Regression'.\n",
      "2023/03/21 16:52:45 INFO mlflow.tracking._model_registry.client: Waiting up to 300 seconds for model version to finish creation.                     Model name: Logistic Regression, version 1\n",
      "Created version '1' of model 'Logistic Regression'.\n",
      "Registered model 'Logistic Regression' already exists. Creating a new version of this model...\n",
      "2023/03/21 16:52:57 INFO mlflow.tracking._model_registry.client: Waiting up to 300 seconds for model version to finish creation.                     Model name: Logistic Regression, version 2\n",
      "Created version '2' of model 'Logistic Regression'.\n",
      "Registered model 'Logistic Regression' already exists. Creating a new version of this model...\n",
      "2023/03/21 16:53:09 INFO mlflow.tracking._model_registry.client: Waiting up to 300 seconds for model version to finish creation.                     Model name: Logistic Regression, version 3\n",
      "Created version '3' of model 'Logistic Regression'.\n",
      "Registered model 'Logistic Regression' already exists. Creating a new version of this model...\n",
      "2023/03/21 16:53:21 INFO mlflow.tracking._model_registry.client: Waiting up to 300 seconds for model version to finish creation.                     Model name: Logistic Regression, version 4\n",
      "Created version '4' of model 'Logistic Regression'.\n",
      "Registered model 'Logistic Regression' already exists. Creating a new version of this model...\n",
      "2023/03/21 16:53:35 INFO mlflow.tracking._model_registry.client: Waiting up to 300 seconds for model version to finish creation.                     Model name: Logistic Regression, version 5\n",
      "Created version '5' of model 'Logistic Regression'.\n",
      "Registered model 'Logistic Regression' already exists. Creating a new version of this model...\n",
      "2023/03/21 16:53:46 INFO mlflow.tracking._model_registry.client: Waiting up to 300 seconds for model version to finish creation.                     Model name: Logistic Regression, version 6\n",
      "Created version '6' of model 'Logistic Regression'.\n",
      "Registered model 'Logistic Regression' already exists. Creating a new version of this model...\n",
      "2023/03/21 16:53:58 INFO mlflow.tracking._model_registry.client: Waiting up to 300 seconds for model version to finish creation.                     Model name: Logistic Regression, version 7\n",
      "Created version '7' of model 'Logistic Regression'.\n"
     ]
    }
   ],
   "source": [
    "mlflow.sklearn.autolog()\n",
    "\n",
    "md_name = \"Logistic Regression\"\n",
    "\n",
    "for i in [0.1, 0.5, 1, 10, 20, 50, 100]:\n",
    "    with mlflow.start_run(run_name = f\"Model : {md_name}, C : {i}\"):\n",
    "        \n",
    "        #Log parameters\n",
    "        mlflow.log_param(\"C\",i)\n",
    "\n",
    "        #Running the model\n",
    "        model_metrics = Log_model(i)\n",
    "\n",
    "        #Logging metrics\n",
    "        mlflow.log_metric(\"Accuracy\", model_metrics[1])\n",
    "        mlflow.log_metric(\"AUPCR\", model_metrics[2])\n",
    "\n",
    "        #Logging JSON of confusion matrix\n",
    "        mlflow.log_dict(np.array(model_metrics[3]).tolist(), \"confusion_matrix.json\")\n",
    "        mlflow.sklearn.log_model(model_metrics[0], \"model\")\n",
    "\n",
    "        tracking_url_type_store = urlparse(mlflow.get_tracking_uri()).scheme\n",
    "        mlflow.sklearn.log_model(\n",
    "            sk_model = model_metrics[0],\n",
    "            artifact_path=\"sklearn-model\",\n",
    "            registered_model_name=\"Logistic Regression\"\n",
    "        )\n",
    "        if tracking_url_type_store != \"file\":\n",
    "            mlflow.sklearn.log_model(model_metrics[0], \"model\", registered_model_name = \"Logistic Regression\")\n",
    "        else:\n",
    "          mlflow.sklearn.log_model(model_metrics[0], \"model\")\n",
    "\n",
    "        \n"
   ]
  },
  {
   "attachments": {},
   "cell_type": "markdown",
   "metadata": {},
   "source": [
    "Logging and tracking multiple runs for the spam detection model built using the Support Vector Classifier Model"
   ]
  },
  {
   "cell_type": "code",
   "execution_count": 15,
   "metadata": {},
   "outputs": [
    {
     "name": "stderr",
     "output_type": "stream",
     "text": [
      "Successfully registered model 'Support Vector Classifier'.\n",
      "2023/03/21 16:54:16 INFO mlflow.tracking._model_registry.client: Waiting up to 300 seconds for model version to finish creation.                     Model name: Support Vector Classifier, version 1\n",
      "Created version '1' of model 'Support Vector Classifier'.\n",
      "Registered model 'Support Vector Classifier' already exists. Creating a new version of this model...\n",
      "2023/03/21 16:54:35 INFO mlflow.tracking._model_registry.client: Waiting up to 300 seconds for model version to finish creation.                     Model name: Support Vector Classifier, version 2\n",
      "Created version '2' of model 'Support Vector Classifier'.\n",
      "Registered model 'Support Vector Classifier' already exists. Creating a new version of this model...\n",
      "2023/03/21 16:54:52 INFO mlflow.tracking._model_registry.client: Waiting up to 300 seconds for model version to finish creation.                     Model name: Support Vector Classifier, version 3\n",
      "Created version '3' of model 'Support Vector Classifier'.\n",
      "Registered model 'Support Vector Classifier' already exists. Creating a new version of this model...\n",
      "2023/03/21 16:55:09 INFO mlflow.tracking._model_registry.client: Waiting up to 300 seconds for model version to finish creation.                     Model name: Support Vector Classifier, version 4\n",
      "Created version '4' of model 'Support Vector Classifier'.\n",
      "Registered model 'Support Vector Classifier' already exists. Creating a new version of this model...\n",
      "2023/03/21 16:55:26 INFO mlflow.tracking._model_registry.client: Waiting up to 300 seconds for model version to finish creation.                     Model name: Support Vector Classifier, version 5\n",
      "Created version '5' of model 'Support Vector Classifier'.\n",
      "Registered model 'Support Vector Classifier' already exists. Creating a new version of this model...\n",
      "2023/03/21 16:55:43 INFO mlflow.tracking._model_registry.client: Waiting up to 300 seconds for model version to finish creation.                     Model name: Support Vector Classifier, version 6\n",
      "Created version '6' of model 'Support Vector Classifier'.\n",
      "Registered model 'Support Vector Classifier' already exists. Creating a new version of this model...\n",
      "2023/03/21 16:56:00 INFO mlflow.tracking._model_registry.client: Waiting up to 300 seconds for model version to finish creation.                     Model name: Support Vector Classifier, version 7\n",
      "Created version '7' of model 'Support Vector Classifier'.\n"
     ]
    }
   ],
   "source": [
    "mlflow.sklearn.autolog()\n",
    "\n",
    "md_name = \"Support Vector Classifier\"\n",
    "\n",
    "for i in [0.1, 0.5, 1, 10, 20, 50, 100]:\n",
    "    with mlflow.start_run(run_name = f\"Model : {md_name}, C : {i}\"):\n",
    "        \n",
    "        #Log parameters\n",
    "        mlflow.log_param(\"C\",i)\n",
    "\n",
    "        #Running the model\n",
    "        model_metrics = SVC_Model(i)\n",
    "\n",
    "        #Logging metrics\n",
    "        mlflow.log_metric(\"Accuracy\", model_metrics[1])\n",
    "        mlflow.log_metric(\"AUPCR\", model_metrics[2])\n",
    "\n",
    "        #Logging JSON of confusion matrix\n",
    "        mlflow.log_dict(np.array(model_metrics[3]).tolist(), \"confusion_matrix.json\")\n",
    "        mlflow.sklearn.log_model(model_metrics[0], \"model\")\n",
    "\n",
    "        tracking_url_type_store = urlparse(mlflow.get_tracking_uri()).scheme\n",
    "        mlflow.sklearn.log_model(\n",
    "            sk_model = model_metrics[0],\n",
    "            artifact_path=\"sklearn-model\",\n",
    "            registered_model_name = \"Support Vector Classifier\"\n",
    "        )\n",
    "        if tracking_url_type_store != \"file\":\n",
    "            mlflow.sklearn.log_model(model_metrics[0], \"model\", registered_model_name = \"Support Vector Classifier\")\n",
    "        else:\n",
    "          mlflow.sklearn.log_model(model_metrics[0], \"model\")\n",
    "\n",
    "        \n"
   ]
  }
 ],
 "metadata": {
  "kernelspec": {
   "display_name": "env_py39",
   "language": "python",
   "name": "python3"
  },
  "language_info": {
   "codemirror_mode": {
    "name": "ipython",
    "version": 3
   },
   "file_extension": ".py",
   "mimetype": "text/x-python",
   "name": "python",
   "nbconvert_exporter": "python",
   "pygments_lexer": "ipython3",
   "version": "3.10.2"
  },
  "orig_nbformat": 4,
  "vscode": {
   "interpreter": {
    "hash": "9839ce3c6acaca560491e1b41f8b46d426659617553cc8a88a5826e3aaa30400"
   }
  }
 },
 "nbformat": 4,
 "nbformat_minor": 2
}
