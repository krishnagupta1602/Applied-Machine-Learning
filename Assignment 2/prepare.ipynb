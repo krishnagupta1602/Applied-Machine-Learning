{
 "cells": [
  {
   "cell_type": "code",
   "execution_count": 1,
   "metadata": {},
   "outputs": [],
   "source": [
    "#Importing the required functions\n",
    "import matplotlib.pyplot as plt\n",
    "import csv\n",
    "import pandas as pd\n",
    "import sklearn\n",
    "import regex as re\n",
    "import numpy as np\n",
    "from zipfile import ZipFile\n",
    "from sklearn.feature_extraction.text import CountVectorizer, TfidfTransformer\n",
    "from sklearn.preprocessing import MultiLabelBinarizer\n",
    "import nltk\n",
    "from nltk.stem import WordNetLemmatizer\n",
    "from nltk.corpus import wordnet \n",
    "import string\n",
    "from sklearn.model_selection import train_test_split\n",
    "from nltk.corpus import stopwords\n",
    "stop_words=set(stopwords.words('english'))"
   ]
  },
  {
   "attachments": {},
   "cell_type": "markdown",
   "metadata": {},
   "source": [
    "Loading the raw data"
   ]
  },
  {
   "cell_type": "code",
   "execution_count": 4,
   "metadata": {},
   "outputs": [],
   "source": [
    "path = './SMSSpamCollection.txt'\n",
    "def read_csv(path):\n",
    "    messages = pd.read_csv(path, sep='\\t', quoting=csv.QUOTE_NONE,\n",
    "                           names=[\"label\", \"message\"])\n",
    "    print(\"No. of rows = \",len(messages))\n",
    "    return messages"
   ]
  },
  {
   "cell_type": "code",
   "execution_count": 5,
   "metadata": {},
   "outputs": [
    {
     "name": "stdout",
     "output_type": "stream",
     "text": [
      "No. of rows =  5574\n"
     ]
    }
   ],
   "source": [
    "raw_data = read_csv(path)"
   ]
  },
  {
   "cell_type": "code",
   "execution_count": 6,
   "metadata": {},
   "outputs": [],
   "source": [
    "#Tokenise\n",
    "def split_into_tokens(data):\n",
    "    tokenized_words = []\n",
    "    regex=r\"\\w+\"\n",
    "    \n",
    "    for i in range(len(data.message)):\n",
    "        tokenized_words.append(re.findall(regex, data.message[i]))\n",
    "        \n",
    "    return tokenized_words"
   ]
  },
  {
   "cell_type": "code",
   "execution_count": 7,
   "metadata": {},
   "outputs": [],
   "source": [
    "#Lematization and Stopword removal\n",
    "def lemmatize(data):\n",
    "    lemmatizer = WordNetLemmatizer()\n",
    "    lemmatized_words = []\n",
    "    \n",
    "    for i in range(len(data)):\n",
    "        temp = []\n",
    "\n",
    "        for j in range(len(data[i])):\n",
    "        \n",
    "            if data[i][j].lower() in stop_words:\n",
    "                continue\n",
    "            \n",
    "            elif data[i][j] in string.punctuation:\n",
    "                continue\n",
    "            \n",
    "            else:\n",
    "                temp.append(str(lemmatizer.lemmatize(data[i][j]).lower()))\n",
    "\n",
    "        lemmatized_words.append(temp)             \n",
    "\n",
    "    return lemmatized_words"
   ]
  },
  {
   "cell_type": "code",
   "execution_count": 8,
   "metadata": {},
   "outputs": [],
   "source": [
    "#Calling the required functions for pre-processing\n",
    "token_words = split_into_tokens(raw_data)\n",
    "processed_words = lemmatize(token_words)\n",
    "\n",
    "raw_data['processed_message'] = processed_words"
   ]
  },
  {
   "cell_type": "code",
   "execution_count": 9,
   "metadata": {},
   "outputs": [],
   "source": [
    "raw_data.loc[raw_data.label == 'spam', 'Label'] = 1\n",
    "raw_data.loc[raw_data.label == 'ham', 'Label'] = 0"
   ]
  },
  {
   "cell_type": "code",
   "execution_count": 13,
   "metadata": {},
   "outputs": [],
   "source": [
    "#Function to split and save the train, validation and test split\n",
    "def data_split(data, r_seed):\n",
    "    \n",
    "    #Train-validation and test split\n",
    "    train_test_split_size = 0.1\n",
    "    X_train_val, X_test, y_train_val, y_test = train_test_split(data.processed_message, data.label, test_size = train_test_split_size, random_state = r_seed)\n",
    "\n",
    "    #Train and Validation split\n",
    "    train_val_split_size = 0.1\n",
    "    X_train, X_val, y_train, y_val = train_test_split(X_train_val, y_train_val, test_size = train_val_split_size, random_state = r_seed)\n",
    "\n",
    "    #Creating the splitted dataframes\n",
    "    train_df = pd.DataFrame({'X_train': X_train,'y_train': y_train})\n",
    "    val_df = pd.DataFrame({'X_val': X_val,'y_val': y_val})\n",
    "    test_df = pd.DataFrame({'X_test': X_test,'y_test': y_test})\n",
    "\n",
    "    train_df.to_csv('./train.csv',index = False)\n",
    "    val_df.to_csv('./validation.csv',index = False)\n",
    "    test_df.to_csv('./test.csv',index = False)"
   ]
  },
  {
   "cell_type": "code",
   "execution_count": 14,
   "metadata": {},
   "outputs": [],
   "source": [
    "#First data split\n",
    "data_split(raw_data, 42)"
   ]
  },
  {
   "attachments": {},
   "cell_type": "markdown",
   "metadata": {},
   "source": [
    "**Tracking the data splitting using dvc**"
   ]
  },
  {
   "attachments": {},
   "cell_type": "markdown",
   "metadata": {},
   "source": [
    "Initialising dvc"
   ]
  },
  {
   "cell_type": "code",
   "execution_count": 19,
   "metadata": {},
   "outputs": [
    {
     "name": "stdout",
     "output_type": "stream",
     "text": [
      "Collecting dvc\n",
      "  Downloading dvc-2.48.0-py3-none-any.whl (411 kB)\n",
      "     ------------------------------------ 411.3/411.3 kB 596.8 kB/s eta 0:00:00\n",
      "Collecting ruamel.yaml>=0.17.11\n",
      "  Downloading ruamel.yaml-0.17.21-py3-none-any.whl (109 kB)\n",
      "     -------------------------------------- 109.5/109.5 kB 1.6 MB/s eta 0:00:00\n",
      "Collecting pydot>=1.2.4\n",
      "  Downloading pydot-1.4.2-py2.py3-none-any.whl (21 kB)\n",
      "Collecting dpath<3,>=2.1.0\n",
      "  Downloading dpath-2.1.4-py3-none-any.whl (17 kB)\n",
      "Requirement already satisfied: packaging>=19 in c:\\users\\lenovo\\appdata\\roaming\\python\\python310\\site-packages (from dvc) (21.3)\n",
      "Collecting dvc-render>=0.1.2\n",
      "  Downloading dvc_render-0.2.0-py3-none-any.whl (17 kB)\n",
      "Collecting tomlkit>=0.11.1\n",
      "  Downloading tomlkit-0.11.6-py3-none-any.whl (35 kB)\n",
      "Collecting hydra-core>=1.1\n",
      "  Downloading hydra_core-1.3.2-py3-none-any.whl (154 kB)\n",
      "     ------------------------------------ 154.5/154.5 kB 616.7 kB/s eta 0:00:00\n",
      "Collecting grandalf<1,>=0.7\n",
      "  Downloading grandalf-0.8-py3-none-any.whl (41 kB)\n",
      "     ---------------------------------------- 41.8/41.8 kB 1.0 MB/s eta 0:00:00\n",
      "Collecting dvc-http\n",
      "  Downloading dvc_http-2.30.2-py3-none-any.whl (12 kB)\n",
      "Requirement already satisfied: tabulate>=0.8.7 in c:\\users\\lenovo\\appdata\\local\\programs\\python\\python310\\lib\\site-packages (from dvc) (0.9.0)\n",
      "Collecting iterative-telemetry>=0.0.7\n",
      "  Downloading iterative_telemetry-0.0.7-py3-none-any.whl (10 kB)\n",
      "Collecting distro>=1.3\n",
      "  Downloading distro-1.8.0-py3-none-any.whl (20 kB)\n",
      "Collecting platformdirs<4,>=3.1.1\n",
      "  Downloading platformdirs-3.1.1-py3-none-any.whl (14 kB)\n",
      "Collecting scmrepo<1,>=0.1.15\n",
      "  Downloading scmrepo-0.1.15-py3-none-any.whl (49 kB)\n",
      "     ---------------------------------------- 49.2/49.2 kB 1.3 MB/s eta 0:00:00\n",
      "Collecting shtab<2,>=1.3.4\n",
      "  Downloading shtab-1.5.8-py2.py3-none-any.whl (13 kB)\n",
      "Requirement already satisfied: psutil>=5.8 in c:\\users\\lenovo\\appdata\\roaming\\python\\python310\\site-packages (from dvc) (5.9.3)\n",
      "Collecting rich>=12\n",
      "  Downloading rich-13.3.2-py3-none-any.whl (238 kB)\n",
      "     ------------------------------------ 238.7/238.7 kB 636.3 kB/s eta 0:00:00\n",
      "Collecting configobj>=5.0.6\n",
      "  Downloading configobj-5.0.8-py2.py3-none-any.whl (36 kB)\n",
      "Collecting dvc-studio-client<1,>=0.5.0\n",
      "  Downloading dvc_studio_client-0.6.0-py3-none-any.whl (9.8 kB)\n",
      "Requirement already satisfied: tqdm<5,>=4.63.1 in c:\\users\\lenovo\\appdata\\local\\programs\\python\\python310\\lib\\site-packages (from dvc) (4.64.1)\n",
      "Collecting dvc-task<1,>=0.2.0\n",
      "  Downloading dvc_task-0.2.0-py3-none-any.whl (23 kB)\n",
      "Collecting shortuuid>=0.5\n",
      "  Downloading shortuuid-1.0.11-py3-none-any.whl (10 kB)\n",
      "Collecting dvc-data<0.44,>=0.43.0\n",
      "  Downloading dvc_data-0.43.0-py3-none-any.whl (59 kB)\n",
      "     -------------------------------------- 59.0/59.0 kB 617.4 kB/s eta 0:00:00\n",
      "Collecting networkx>=2.5\n",
      "  Downloading networkx-3.0-py3-none-any.whl (2.0 MB)\n",
      "     ---------------------------------------- 2.0/2.0 MB 493.0 kB/s eta 0:00:00\n",
      "Requirement already satisfied: pyparsing>=2.4.7 in c:\\users\\lenovo\\appdata\\roaming\\python\\python310\\site-packages (from dvc) (3.0.9)\n",
      "Collecting flufl.lock>=5\n",
      "  Downloading flufl.lock-7.1.1-py3-none-any.whl (11 kB)\n",
      "Collecting voluptuous>=0.11.7\n",
      "  Downloading voluptuous-0.13.1-py3-none-any.whl (29 kB)\n",
      "Collecting funcy>=1.14\n",
      "  Downloading funcy-1.18-py2.py3-none-any.whl (33 kB)\n",
      "Collecting flatten-dict<1,>=0.4.1\n",
      "  Downloading flatten_dict-0.4.2-py2.py3-none-any.whl (9.7 kB)\n",
      "Requirement already satisfied: colorama>=0.3.9 in c:\\users\\lenovo\\appdata\\roaming\\python\\python310\\site-packages (from dvc) (0.4.6)\n",
      "Collecting zc.lockfile>=1.2.1\n",
      "  Downloading zc.lockfile-3.0.post1-py3-none-any.whl (9.8 kB)\n",
      "Collecting pygtrie>=2.3.2\n",
      "  Downloading pygtrie-2.5.0-py3-none-any.whl (25 kB)\n",
      "Collecting pathspec>=0.10.3\n",
      "  Downloading pathspec-0.11.0-py3-none-any.whl (29 kB)\n",
      "Requirement already satisfied: requests>=2.22 in c:\\users\\lenovo\\appdata\\local\\programs\\python\\python310\\lib\\site-packages (from dvc) (2.28.2)\n",
      "Requirement already satisfied: six in c:\\users\\lenovo\\appdata\\local\\programs\\python\\python310\\lib\\site-packages (from configobj>=5.0.6->dvc) (1.16.0)\n",
      "Collecting attrs>=21.3.0\n",
      "  Downloading attrs-22.2.0-py3-none-any.whl (60 kB)\n",
      "     ---------------------------------------- 60.0/60.0 kB 1.6 MB/s eta 0:00:00\n",
      "Collecting dictdiffer>=0.8.1\n",
      "  Downloading dictdiffer-0.9.0-py2.py3-none-any.whl (16 kB)\n",
      "Collecting diskcache>=5.2.1\n",
      "  Downloading diskcache-5.4.0-py3-none-any.whl (44 kB)\n",
      "     ---------------------------------------- 45.0/45.0 kB 1.1 MB/s eta 0:00:00\n",
      "Collecting nanotime>=0.5.2\n",
      "  Downloading nanotime-0.5.2.tar.gz (3.2 kB)\n",
      "  Preparing metadata (setup.py): started\n",
      "  Preparing metadata (setup.py): finished with status 'done'\n",
      "Collecting sqltrie<1,>=0.3.0\n",
      "  Downloading sqltrie-0.3.0-py3-none-any.whl (16 kB)\n",
      "Collecting dvc-objects<1,>=0.21.1\n",
      "  Downloading dvc_objects-0.21.1-py3-none-any.whl (37 kB)\n",
      "Collecting dulwich\n",
      "  Downloading dulwich-0.21.3-cp310-cp310-win_amd64.whl (479 kB)\n",
      "     -------------------------------------- 479.0/479.0 kB 1.5 MB/s eta 0:00:00\n",
      "Collecting celery<6,>=5.2.0\n",
      "  Downloading celery-5.2.7-py3-none-any.whl (405 kB)\n",
      "     -------------------------------------- 405.6/405.6 kB 1.4 MB/s eta 0:00:00\n",
      "Requirement already satisfied: pywin32>=225 in c:\\users\\lenovo\\appdata\\roaming\\python\\python310\\site-packages (from dvc-task<1,>=0.2.0->dvc) (304)\n",
      "Collecting kombu<6,>=5.2.0\n",
      "  Downloading kombu-5.2.4-py3-none-any.whl (189 kB)\n",
      "     -------------------------------------- 189.2/189.2 kB 1.6 MB/s eta 0:00:00\n",
      "Collecting atpublic>=2.3\n",
      "  Downloading atpublic-3.1.1-py3-none-any.whl (4.8 kB)\n",
      "Collecting omegaconf<2.4,>=2.2\n",
      "  Downloading omegaconf-2.3.0-py3-none-any.whl (79 kB)\n",
      "     ---------------------------------------- 79.5/79.5 kB 1.1 MB/s eta 0:00:00\n",
      "Collecting antlr4-python3-runtime==4.9.*\n",
      "  Downloading antlr4-python3-runtime-4.9.3.tar.gz (117 kB)\n",
      "     -------------------------------------- 117.0/117.0 kB 1.7 MB/s eta 0:00:00\n",
      "  Preparing metadata (setup.py): started\n",
      "  Preparing metadata (setup.py): finished with status 'done'\n",
      "Collecting filelock\n",
      "  Downloading filelock-3.9.0-py3-none-any.whl (9.7 kB)\n",
      "Collecting appdirs\n",
      "  Downloading appdirs-1.4.4-py2.py3-none-any.whl (9.6 kB)\n",
      "Requirement already satisfied: certifi>=2017.4.17 in c:\\users\\lenovo\\appdata\\local\\programs\\python\\python310\\lib\\site-packages (from requests>=2.22->dvc) (2022.12.7)\n",
      "Requirement already satisfied: idna<4,>=2.5 in c:\\users\\lenovo\\appdata\\local\\programs\\python\\python310\\lib\\site-packages (from requests>=2.22->dvc) (3.4)\n",
      "Requirement already satisfied: urllib3<1.27,>=1.21.1 in c:\\users\\lenovo\\appdata\\local\\programs\\python\\python310\\lib\\site-packages (from requests>=2.22->dvc) (1.26.15)\n",
      "Requirement already satisfied: charset-normalizer<4,>=2 in c:\\users\\lenovo\\appdata\\local\\programs\\python\\python310\\lib\\site-packages (from requests>=2.22->dvc) (3.1.0)\n",
      "Collecting markdown-it-py<3.0.0,>=2.2.0\n",
      "  Downloading markdown_it_py-2.2.0-py3-none-any.whl (84 kB)\n",
      "     ---------------------------------------- 84.5/84.5 kB 1.2 MB/s eta 0:00:00\n",
      "Requirement already satisfied: pygments<3.0.0,>=2.13.0 in c:\\users\\lenovo\\appdata\\roaming\\python\\python310\\site-packages (from rich>=12->dvc) (2.13.0)\n",
      "Collecting ruamel.yaml.clib>=0.2.6\n",
      "  Downloading ruamel.yaml.clib-0.2.7-cp310-cp310-win_amd64.whl (111 kB)\n",
      "     ------------------------------------ 111.7/111.7 kB 593.2 kB/s eta 0:00:00\n",
      "Collecting fsspec>=2021.7.0\n",
      "  Downloading fsspec-2023.3.0-py3-none-any.whl (145 kB)\n",
      "     ------------------------------------ 145.4/145.4 kB 719.0 kB/s eta 0:00:00\n",
      "Collecting pygit2>=1.10.0\n",
      "  Downloading pygit2-1.11.1-cp310-cp310-win_amd64.whl (1.2 MB)\n",
      "     ---------------------------------------- 1.2/1.2 MB 1.1 MB/s eta 0:00:00\n",
      "Collecting asyncssh<3,>=2.7.1\n",
      "  Downloading asyncssh-2.13.1-py3-none-any.whl (348 kB)\n",
      "     ------------------------------------ 348.5/348.5 kB 746.8 kB/s eta 0:00:00\n",
      "Requirement already satisfied: gitpython>3 in c:\\users\\lenovo\\appdata\\local\\programs\\python\\python310\\lib\\site-packages (from scmrepo<1,>=0.1.15->dvc) (3.1.31)\n",
      "Requirement already satisfied: setuptools in c:\\users\\lenovo\\appdata\\local\\programs\\python\\python310\\lib\\site-packages (from zc.lockfile>=1.2.1->dvc) (58.1.0)\n",
      "Collecting aiohttp-retry>=2.5.0\n",
      "  Downloading aiohttp_retry-2.8.3-py3-none-any.whl (9.8 kB)\n",
      "Collecting aiohttp\n",
      "  Downloading aiohttp-3.8.4-cp310-cp310-win_amd64.whl (319 kB)\n",
      "     -------------------------------------- 319.8/319.8 kB 1.0 MB/s eta 0:00:00\n",
      "Requirement already satisfied: typing-extensions>=3.6 in c:\\users\\lenovo\\appdata\\local\\programs\\python\\python310\\lib\\site-packages (from asyncssh<3,>=2.7.1->scmrepo<1,>=0.1.15->dvc) (4.5.0)\n",
      "Collecting cryptography>=3.1\n",
      "  Downloading cryptography-39.0.2-cp36-abi3-win_amd64.whl (2.5 MB)\n",
      "     ---------------------------------------- 2.5/2.5 MB 831.9 kB/s eta 0:00:00\n",
      "Collecting click-didyoumean>=0.0.3\n",
      "  Downloading click_didyoumean-0.3.0-py3-none-any.whl (2.7 kB)\n",
      "Collecting click-plugins>=1.1.1\n",
      "  Downloading click_plugins-1.1.1-py2.py3-none-any.whl (7.5 kB)\n",
      "Collecting billiard<4.0,>=3.6.4.0\n",
      "  Downloading billiard-3.6.4.0-py3-none-any.whl (89 kB)\n",
      "     ---------------------------------------- 89.5/89.5 kB 1.7 MB/s eta 0:00:00\n",
      "Collecting vine<6.0,>=5.0.0\n",
      "  Downloading vine-5.0.0-py2.py3-none-any.whl (9.4 kB)\n",
      "Collecting click-repl>=0.2.0\n",
      "  Downloading click_repl-0.2.0-py3-none-any.whl (5.2 kB)\n",
      "Requirement already satisfied: pytz>=2021.3 in c:\\users\\lenovo\\appdata\\local\\programs\\python\\python310\\lib\\site-packages (from celery<6,>=5.2.0->dvc-task<1,>=0.2.0->dvc) (2021.3)\n",
      "Requirement already satisfied: click<9.0,>=8.0.3 in c:\\users\\lenovo\\appdata\\local\\programs\\python\\python310\\lib\\site-packages (from celery<6,>=5.2.0->dvc-task<1,>=0.2.0->dvc) (8.1.3)\n",
      "Requirement already satisfied: gitdb<5,>=4.0.1 in c:\\users\\lenovo\\appdata\\local\\programs\\python\\python310\\lib\\site-packages (from gitpython>3->scmrepo<1,>=0.1.15->dvc) (4.0.10)\n",
      "Collecting amqp<6.0.0,>=5.0.9\n",
      "  Downloading amqp-5.1.1-py3-none-any.whl (50 kB)\n",
      "     ---------------------------------------- 50.8/50.8 kB 1.3 MB/s eta 0:00:00\n",
      "Collecting mdurl~=0.1\n",
      "  Downloading mdurl-0.1.2-py3-none-any.whl (10.0 kB)\n",
      "Requirement already satisfied: PyYAML>=5.1.0 in c:\\users\\lenovo\\appdata\\local\\programs\\python\\python310\\lib\\site-packages (from omegaconf<2.4,>=2.2->hydra-core>=1.1->dvc) (6.0)\n",
      "Collecting cffi>=1.9.1\n",
      "  Downloading cffi-1.15.1-cp310-cp310-win_amd64.whl (179 kB)\n",
      "     ------------------------------------ 179.1/179.1 kB 721.5 kB/s eta 0:00:00\n",
      "Collecting orjson\n",
      "  Downloading orjson-3.8.7-cp310-none-win_amd64.whl (202 kB)\n",
      "     ------------------------------------ 202.8/202.8 kB 587.0 kB/s eta 0:00:00\n",
      "Collecting aiosignal>=1.1.2\n",
      "  Downloading aiosignal-1.3.1-py3-none-any.whl (7.6 kB)\n",
      "Collecting async-timeout<5.0,>=4.0.0a3\n",
      "  Downloading async_timeout-4.0.2-py3-none-any.whl (5.8 kB)\n",
      "Collecting frozenlist>=1.1.1\n",
      "  Downloading frozenlist-1.3.3-cp310-cp310-win_amd64.whl (33 kB)\n",
      "Collecting multidict<7.0,>=4.5\n",
      "  Downloading multidict-6.0.4-cp310-cp310-win_amd64.whl (28 kB)\n",
      "Collecting yarl<2.0,>=1.0\n",
      "  Downloading yarl-1.8.2-cp310-cp310-win_amd64.whl (56 kB)\n",
      "     -------------------------------------- 56.1/56.1 kB 974.8 kB/s eta 0:00:00\n",
      "Collecting pycparser\n",
      "  Downloading pycparser-2.21-py2.py3-none-any.whl (118 kB)\n",
      "     ------------------------------------ 118.7/118.7 kB 154.3 kB/s eta 0:00:00\n",
      "Requirement already satisfied: prompt-toolkit in c:\\users\\lenovo\\appdata\\roaming\\python\\python310\\site-packages (from click-repl>=0.2.0->celery<6,>=5.2.0->dvc-task<1,>=0.2.0->dvc) (3.0.31)\n",
      "Requirement already satisfied: smmap<6,>=3.0.1 in c:\\users\\lenovo\\appdata\\local\\programs\\python\\python310\\lib\\site-packages (from gitdb<5,>=4.0.1->gitpython>3->scmrepo<1,>=0.1.15->dvc) (5.0.0)\n",
      "Requirement already satisfied: wcwidth in c:\\users\\lenovo\\appdata\\roaming\\python\\python310\\site-packages (from prompt-toolkit->click-repl>=0.2.0->celery<6,>=5.2.0->dvc-task<1,>=0.2.0->dvc) (0.2.5)\n",
      "Installing collected packages: voluptuous, pygtrie, nanotime, funcy, dictdiffer, billiard, appdirs, antlr4-python3-runtime, zc.lockfile, vine, tomlkit, shtab, shortuuid, ruamel.yaml.clib, pydot, pycparser, platformdirs, pathspec, orjson, omegaconf, networkx, multidict, mdurl, grandalf, fsspec, frozenlist, flatten-dict, filelock, dvc-render, dulwich, dpath, distro, diskcache, configobj, attrs, atpublic, async-timeout, yarl, sqltrie, ruamel.yaml, markdown-it-py, iterative-telemetry, hydra-core, flufl.lock, dvc-studio-client, dvc-objects, click-repl, click-plugins, click-didyoumean, cffi, amqp, aiosignal, rich, pygit2, kombu, dvc-data, cryptography, aiohttp, celery, asyncssh, aiohttp-retry, scmrepo, dvc-task, dvc-http, dvc\n",
      "  Running setup.py install for nanotime: started\n",
      "  Running setup.py install for nanotime: finished with status 'done'\n",
      "  Running setup.py install for antlr4-python3-runtime: started\n",
      "  Running setup.py install for antlr4-python3-runtime: finished with status 'done'\n",
      "Successfully installed aiohttp-3.8.4 aiohttp-retry-2.8.3 aiosignal-1.3.1 amqp-5.1.1 antlr4-python3-runtime-4.9.3 appdirs-1.4.4 async-timeout-4.0.2 asyncssh-2.13.1 atpublic-3.1.1 attrs-22.2.0 billiard-3.6.4.0 celery-5.2.7 cffi-1.15.1 click-didyoumean-0.3.0 click-plugins-1.1.1 click-repl-0.2.0 configobj-5.0.8 cryptography-39.0.2 dictdiffer-0.9.0 diskcache-5.4.0 distro-1.8.0 dpath-2.1.4 dulwich-0.21.3 dvc-2.48.0 dvc-data-0.43.0 dvc-http-2.30.2 dvc-objects-0.21.1 dvc-render-0.2.0 dvc-studio-client-0.6.0 dvc-task-0.2.0 filelock-3.9.0 flatten-dict-0.4.2 flufl.lock-7.1.1 frozenlist-1.3.3 fsspec-2023.3.0 funcy-1.18 grandalf-0.8 hydra-core-1.3.2 iterative-telemetry-0.0.7 kombu-5.2.4 markdown-it-py-2.2.0 mdurl-0.1.2 multidict-6.0.4 nanotime-0.5.2 networkx-3.0 omegaconf-2.3.0 orjson-3.8.7 pathspec-0.11.0 platformdirs-3.1.1 pycparser-2.21 pydot-1.4.2 pygit2-1.11.1 pygtrie-2.5.0 rich-13.3.2 ruamel.yaml-0.17.21 ruamel.yaml.clib-0.2.7 scmrepo-0.1.15 shortuuid-1.0.11 shtab-1.5.8 sqltrie-0.3.0 tomlkit-0.11.6 vine-5.0.0 voluptuous-0.13.1 yarl-1.8.2 zc.lockfile-3.0.post1\n"
     ]
    },
    {
     "name": "stderr",
     "output_type": "stream",
     "text": [
      "  DEPRECATION: nanotime is being installed using the legacy 'setup.py install' method, because it does not have a 'pyproject.toml' and the 'wheel' package is not installed. pip 23.1 will enforce this behaviour change. A possible replacement is to enable the '--use-pep517' option. Discussion can be found at https://github.com/pypa/pip/issues/8559\n",
      "  DEPRECATION: antlr4-python3-runtime is being installed using the legacy 'setup.py install' method, because it does not have a 'pyproject.toml' and the 'wheel' package is not installed. pip 23.1 will enforce this behaviour change. A possible replacement is to enable the '--use-pep517' option. Discussion can be found at https://github.com/pypa/pip/issues/8559\n",
      "\n",
      "[notice] A new release of pip available: 22.3.1 -> 23.0.1\n",
      "[notice] To update, run: python.exe -m pip install --upgrade pip\n"
     ]
    }
   ],
   "source": [
    "!pip install dvc"
   ]
  },
  {
   "cell_type": "code",
   "execution_count": 20,
   "metadata": {},
   "outputs": [
    {
     "name": "stdout",
     "output_type": "stream",
     "text": [
      "Initialized DVC repository.\n",
      "\n",
      "You can now commit the changes to git.\n",
      "\n",
      "+---------------------------------------------------------------------+\n",
      "|                                                                     |\n",
      "|        DVC has enabled anonymous aggregate usage analytics.         |\n",
      "|     Read the analytics documentation (and how to opt-out) here:     |\n",
      "|             <https://dvc.org/doc/user-guide/analytics>              |\n",
      "|                                                                     |\n",
      "+---------------------------------------------------------------------+\n",
      "\n",
      "What's next?\n",
      "------------\n",
      "- Check out the documentation: <https://dvc.org/doc>\n",
      "- Get help and share ideas: <https://dvc.org/chat>\n",
      "- Star us on GitHub: <https://github.com/iterative/dvc>\n"
     ]
    }
   ],
   "source": [
    "!cd .. && dvc init"
   ]
  },
  {
   "attachments": {},
   "cell_type": "markdown",
   "metadata": {},
   "source": [
    "Adding all the 3 splitted csv files to dvc"
   ]
  },
  {
   "cell_type": "code",
   "execution_count": 26,
   "metadata": {},
   "outputs": [
    {
     "name": "stderr",
     "output_type": "stream",
     "text": [
      "fatal: pathspec ''./Assignment' did not match any files\n"
     ]
    },
    {
     "name": "stdout",
     "output_type": "stream",
     "text": [
      "On branch main\n",
      "Your branch is ahead of 'origin/main' by 2 commits.\n",
      "  (use \"git push\" to publish your local commits)\n",
      "\n",
      "Changes not staged for commit:\n",
      "  (use \"git add <file>...\" to update what will be committed)\n",
      "  (use \"git restore <file>...\" to discard changes in working directory)\n",
      "\tmodified:   prepare.ipynb\n",
      "\tmodified:   test.csv\n",
      "\tmodified:   train.csv\n",
      "\tmodified:   validation.csv\n",
      "\n",
      "Untracked files:\n",
      "  (use \"git add <file>...\" to include in what will be committed)\n",
      "\tSMSSpamCollection.txt\n",
      "\n",
      "no changes added to commit (use \"git add\" and/or \"git commit -a\")\n"
     ]
    }
   ],
   "source": [
    "!git rm -r --cached './Assignment 2/train.csv'\n",
    "!git commit -m \"stop tracking ./Assignment 2/train.csv\" "
   ]
  },
  {
   "cell_type": "code",
   "execution_count": 32,
   "metadata": {},
   "outputs": [
    {
     "name": "stderr",
     "output_type": "stream",
     "text": [
      "ERROR:  output 'Assignment 2\\train.csv' is already tracked by SCM (e.g. Git).\n",
      "    You can remove it from Git, then add to DVC.\n",
      "        To stop tracking from Git:\n",
      "            git rm -r --cached 'Assignment 2\\train.csv'\n",
      "            git commit -m \"stop tracking Assignment 2\\train.csv\" \n"
     ]
    }
   ],
   "source": [
    "!dvc add ./Assignment 2/train.csv\n",
    "# !dvc add ./validation.csv\n",
    "# !dvc add ./test.csv"
   ]
  },
  {
   "cell_type": "code",
   "execution_count": 17,
   "metadata": {},
   "outputs": [
    {
     "name": "stderr",
     "output_type": "stream",
     "text": [
      "'dvc' is not recognized as an internal or external command,\n",
      "operable program or batch file.\n"
     ]
    }
   ],
   "source": [
    "!dvc config core.autostage true"
   ]
  },
  {
   "attachments": {},
   "cell_type": "markdown",
   "metadata": {},
   "source": [
    "Adding google drive folder as a remote data storage"
   ]
  },
  {
   "cell_type": "code",
   "execution_count": 19,
   "metadata": {},
   "outputs": [
    {
     "name": "stdout",
     "output_type": "stream",
     "text": [
      "Setting 'myremote' as a default remote.\n"
     ]
    }
   ],
   "source": [
    "!cd .. && dvc remote add --default myremote gdrive://1WM_n-19W7nOe2Pyr-3yHzAUOFyvEgPOy"
   ]
  },
  {
   "cell_type": "code",
   "execution_count": 20,
   "metadata": {},
   "outputs": [],
   "source": [
    "!dvc remote modify myremote gdrive_acknowledge_abuse true"
   ]
  },
  {
   "attachments": {},
   "cell_type": "markdown",
   "metadata": {},
   "source": [
    "Pushing dvc tracked files to remote storage"
   ]
  },
  {
   "cell_type": "code",
   "execution_count": 21,
   "metadata": {},
   "outputs": [
    {
     "name": "stdout",
     "output_type": "stream",
     "text": [
      "3 files pushed\n"
     ]
    }
   ],
   "source": [
    "!dvc push"
   ]
  },
  {
   "cell_type": "code",
   "execution_count": 22,
   "metadata": {},
   "outputs": [],
   "source": [
    "#2nd data split\n",
    "data_split(raw_data, 121)"
   ]
  },
  {
   "cell_type": "code",
   "execution_count": 23,
   "metadata": {},
   "outputs": [
    {
     "name": "stdout",
     "output_type": "stream",
     "text": [
      "test.csv.dvc:\n",
      "\tchanged outs:\n",
      "\t\tmodified:           Assignment 2\\data\\test.csv\n",
      "train.csv.dvc:\n",
      "\tchanged outs:\n",
      "\t\tmodified:           Assignment 2\\data\\train.csv\n",
      "validation.csv.dvc:\n",
      "\tchanged outs:\n",
      "\t\tmodified:           Assignment 2\\data\\validation.csv\n"
     ]
    }
   ],
   "source": [
    "!dvc status"
   ]
  },
  {
   "cell_type": "code",
   "execution_count": 24,
   "metadata": {},
   "outputs": [
    {
     "name": "stdout",
     "output_type": "stream",
     "text": [
      "3 files pushed\n"
     ]
    }
   ],
   "source": [
    "!dvc push"
   ]
  },
  {
   "attachments": {},
   "cell_type": "markdown",
   "metadata": {},
   "source": [
    "Checkout for the different versions of the data splitting"
   ]
  },
  {
   "cell_type": "code",
   "execution_count": 25,
   "metadata": {},
   "outputs": [
    {
     "name": "stdout",
     "output_type": "stream",
     "text": [
      "commit b4e31b9f1fb6fd99a4f0f5eaee62322c65d0393f\n",
      "Author: Soham Biswas <biswassoham434@gmail.com>\n",
      "Date:   Tue Feb 28 00:16:57 2023 +0530\n",
      "\n",
      "    Second Split Random Seed 121\n",
      "\n",
      "commit 250db97be7ad21504f968454f6cf9cd55cad6bd1\n",
      "Author: Soham Biswas <biswassoham434@gmail.com>\n",
      "Date:   Tue Feb 28 00:07:45 2023 +0530\n",
      "\n",
      "    First Split Random Seed 42\n",
      "\n",
      "commit efe6d6c31d44abd0961ce32546915d7381ae2d97\n",
      "Author: Soham Biswas <biswassoham434@gmail.com>\n",
      "Date:   Tue Feb 28 00:07:15 2023 +0530\n",
      "\n",
      "    dvc remote added and pushed\n",
      "\n",
      "commit 2683509f5b8a4d5735d52e8e6ef0dba594985f9d\n",
      "Author: Soham Biswas <biswassoham434@gmail.com>\n",
      "Date:   Tue Feb 28 00:02:41 2023 +0530\n",
      "\n",
      "    dvc init\n",
      "\n",
      "commit 32d0797cf3e7baea5831db53520785188d28fe9a\n",
      "Author: Soham Biswas <biswassoham434@gmail.com>\n",
      "Date:   Tue Feb 28 00:01:44 2023 +0530\n",
      "\n",
      "    dvc deleted for fresh start\n",
      "\n",
      "commit a8cd5cea8129ba08b71b89fe78f42aa63563b417\n",
      "Author: Soham Biswas <biswassoham434@gmail.com>\n",
      "Date:   Mon Feb 27 23:59:51 2023 +0530\n",
      "\n",
      "    dvc deleted for fresh start\n",
      "\n",
      "commit fe80fa9a0d081b4e66077d57fa6f56041e7f2495\n",
      "Author: Soham Biswas <biswassoham434@gmail.com>\n",
      "Date:   Mon Feb 27 23:59:34 2023 +0530\n",
      "\n",
      "    dvc deleted for fresh start\n",
      "\n",
      "commit eb21fa349c494b1199a9431207c0ffc7242a10a7\n",
      "Author: Soham Biswas <biswassoham434@gmail.com>\n",
      "Date:   Mon Feb 27 22:33:21 2023 +0530\n",
      "\n",
      "    1st Split, Seed: 42\n",
      "\n",
      "commit 7e36fc00a177c12c7bcc4d1658353854f468cc19\n",
      "Author: Soham Biswas <biswassoham434@gmail.com>\n",
      "Date:   Mon Feb 27 22:32:51 2023 +0530\n",
      "\n",
      "    First Split not csv\n",
      "\n",
      "commit 2052aa111a482855597acce32630364e8386d41a\n",
      "Merge: e058d02 1793b56\n",
      "Author: Soham Biswas <biswassoham434@gmail.com>\n",
      "Date:   Mon Feb 27 21:46:45 2023 +0530\n",
      "\n",
      "    Moving files to subfolder\n",
      "\n",
      "commit e058d02378c703f9b2c244b11b022a6f55760816\n",
      "Author: Soham Biswas <biswassoham434@gmail.com>\n",
      "Date:   Mon Feb 27 21:45:13 2023 +0530\n",
      "\n",
      "    Moving files to subfolder\n",
      "\n",
      "commit 1793b56e78463d2c36d75f9c44ceda1c000b3113\n",
      "Author: Soham Biswas <biswassoham434@gmail.com>\n",
      "Date:   Mon Feb 27 21:43:48 2023 +0530\n",
      "\n",
      "    Delete data directory\n",
      "\n",
      "commit 98c78db52f7d7786d46bb1321b5a3c32bc059f17\n",
      "Author: Soham Biswas <biswassoham434@gmail.com>\n",
      "Date:   Mon Feb 27 21:43:02 2023 +0530\n",
      "\n",
      "    Moving files to subfolder\n",
      "\n",
      "commit 4edf56c2b0005cb04c944084a4f3909f24a71876\n",
      "Author: Soham Biswas <biswassoham434@gmail.com>\n",
      "Date:   Mon Feb 27 21:38:04 2023 +0530\n",
      "\n",
      "    Delete Assingment 1 directory\n",
      "\n",
      "commit c713be849d1edb0fd7208b21ee46b056539edda9\n",
      "Author: Soham Biswas <biswassoham434@gmail.com>\n",
      "Date:   Mon Feb 27 21:37:53 2023 +0530\n",
      "\n",
      "    Delete Assignment 1 directory\n",
      "\n",
      "commit 5b2ebaa8ab4ccd4f5ea1c5a1d647ed2a5cc28642\n",
      "Author: Soham Biswas <biswassoham434@gmail.com>\n",
      "Date:   Mon Feb 27 21:37:07 2023 +0530\n",
      "\n",
      "    Rename prepare.ipynb to Assignment 1/prepare.ipynb\n",
      "\n",
      "commit f8273b3140f443caa25a1c3c4a5c599b256615f5\n",
      "Author: Soham Biswas <biswassoham434@gmail.com>\n",
      "Date:   Mon Feb 27 21:33:26 2023 +0530\n",
      "\n",
      "    Create ReadMe.txt\n",
      "\n",
      "commit 44b1cd5733c28ee6b59a34b566ed17119eadf703\n",
      "Author: Soham Biswas <biswassoham434@gmail.com>\n",
      "Date:   Tue Jan 31 23:38:37 2023 +0530\n",
      "\n",
      "    initial_commit\n"
     ]
    }
   ],
   "source": [
    "!git log"
   ]
  },
  {
   "attachments": {},
   "cell_type": "markdown",
   "metadata": {},
   "source": [
    "Checkout for 1st version"
   ]
  },
  {
   "cell_type": "code",
   "execution_count": 26,
   "metadata": {},
   "outputs": [
    {
     "name": "stderr",
     "output_type": "stream",
     "text": [
      "Note: switching to '250db97be7ad21504f968454f6cf9cd55cad6bd1'.\n",
      "\n",
      "You are in 'detached HEAD' state. You can look around, make experimental\n",
      "changes and commit them, and you can discard any commits you make in this\n",
      "state without impacting any branches by switching back to a branch.\n",
      "\n",
      "If you want to create a new branch to retain commits you create, you may\n",
      "do so (now or later) by using -c with the switch command. Example:\n",
      "\n",
      "  git switch -c <new-branch-name>\n",
      "\n",
      "Or undo this operation with:\n",
      "\n",
      "  git switch -\n",
      "\n",
      "Turn off this advice by setting config variable advice.detachedHead to false\n",
      "\n",
      "HEAD is now at 250db97 First Split Random Seed 42\n"
     ]
    }
   ],
   "source": [
    "!git checkout 250db97be7ad21504f968454f6cf9cd55cad6bd1"
   ]
  },
  {
   "cell_type": "code",
   "execution_count": 27,
   "metadata": {},
   "outputs": [
    {
     "name": "stdout",
     "output_type": "stream",
     "text": [
      "M       Assignment 2\\data\\train.csv\n",
      "M       Assignment 2\\data\\test.csv\n",
      "M       Assignment 2\\data\\validation.csv\n"
     ]
    }
   ],
   "source": [
    "!dvc checkout"
   ]
  },
  {
   "attachments": {},
   "cell_type": "markdown",
   "metadata": {},
   "source": [
    "Function to get the distribution of sms labels in the splitted data"
   ]
  },
  {
   "cell_type": "code",
   "execution_count": 43,
   "metadata": {},
   "outputs": [],
   "source": [
    "def label_dist(path):\n",
    "    data = pd.read_csv(path)\n",
    "\n",
    "    ham_count = list(data.iloc[:,1]).count(\"ham\")\n",
    "    spam_count = list(data.iloc[:,1]).count(\"spam\")\n",
    "\n",
    "    print(\"Ham: {}, Spam: {}\".format(ham_count, spam_count))"
   ]
  },
  {
   "attachments": {},
   "cell_type": "markdown",
   "metadata": {},
   "source": [
    "For 1st Split (Random Seed: 42)"
   ]
  },
  {
   "cell_type": "code",
   "execution_count": 45,
   "metadata": {},
   "outputs": [
    {
     "name": "stdout",
     "output_type": "stream",
     "text": [
      "First Split (Random Seed: 42)\n",
      "\n",
      "Training dataset:\n",
      "Ham: 3909, Spam: 605\n",
      "\n",
      "Validation dataset:\n",
      "Ham: 440, Spam: 62\n",
      "\n",
      "Testing dataset:\n",
      "Ham: 478, Spam: 80\n"
     ]
    }
   ],
   "source": [
    "train_path = './data/train.csv'\n",
    "val_path = './data/validation.csv'\n",
    "test_path = './data/test.csv'\n",
    "\n",
    "print(\"First Split (Random Seed: 42)\")\n",
    "print(\"\\nTraining dataset:\")\n",
    "label_dist(train_path)\n",
    "print(\"\\nValidation dataset:\")\n",
    "label_dist(val_path)\n",
    "print(\"\\nTesting dataset:\")\n",
    "label_dist(test_path)"
   ]
  },
  {
   "attachments": {},
   "cell_type": "markdown",
   "metadata": {},
   "source": [
    "Checkout for 2nd Split"
   ]
  },
  {
   "cell_type": "code",
   "execution_count": 47,
   "metadata": {},
   "outputs": [
    {
     "name": "stderr",
     "output_type": "stream",
     "text": [
      "Previous HEAD position was 250db97 First Split Random Seed 42\n",
      "HEAD is now at b4e31b9 Second Split Random Seed 121\n"
     ]
    }
   ],
   "source": [
    "!git checkout b4e31b9f1fb6fd99a4f0f5eaee62322c65d0393f"
   ]
  },
  {
   "cell_type": "code",
   "execution_count": 48,
   "metadata": {},
   "outputs": [
    {
     "name": "stdout",
     "output_type": "stream",
     "text": [
      "M       Assignment 2\\data\\train.csv\n",
      "M       Assignment 2\\data\\validation.csv\n",
      "M       Assignment 2\\data\\test.csv\n"
     ]
    }
   ],
   "source": [
    "!dvc checkout"
   ]
  },
  {
   "attachments": {},
   "cell_type": "markdown",
   "metadata": {},
   "source": [
    "For 2nd Split (Random Seed: 121)"
   ]
  },
  {
   "cell_type": "code",
   "execution_count": 49,
   "metadata": {},
   "outputs": [
    {
     "name": "stdout",
     "output_type": "stream",
     "text": [
      "2nd Split (Random Seed: 121)\n",
      "\n",
      "Training dataset:\n",
      "Ham: 3910, Spam: 604\n",
      "\n",
      "Validation dataset:\n",
      "Ham: 430, Spam: 72\n",
      "\n",
      "Testing dataset:\n",
      "Ham: 487, Spam: 71\n"
     ]
    }
   ],
   "source": [
    "print(\"2nd Split (Random Seed: 121)\")\n",
    "print(\"\\nTraining dataset:\")\n",
    "label_dist(train_path)\n",
    "print(\"\\nValidation dataset:\")\n",
    "label_dist(val_path)\n",
    "print(\"\\nTesting dataset:\")\n",
    "label_dist(test_path)"
   ]
  }
 ],
 "metadata": {
  "kernelspec": {
   "display_name": "env_py39",
   "language": "python",
   "name": "python3"
  },
  "language_info": {
   "codemirror_mode": {
    "name": "ipython",
    "version": 3
   },
   "file_extension": ".py",
   "mimetype": "text/x-python",
   "name": "python",
   "nbconvert_exporter": "python",
   "pygments_lexer": "ipython3",
   "version": "3.10.2"
  },
  "orig_nbformat": 4,
  "vscode": {
   "interpreter": {
    "hash": "9839ce3c6acaca560491e1b41f8b46d426659617553cc8a88a5826e3aaa30400"
   }
  }
 },
 "nbformat": 4,
 "nbformat_minor": 2
}
